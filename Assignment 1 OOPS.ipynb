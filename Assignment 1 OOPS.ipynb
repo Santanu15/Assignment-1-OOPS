{
 "cells": [
  {
   "cell_type": "code",
   "execution_count": 2,
   "id": "4533cde6-1470-43a5-94f8-92857c0758ac",
   "metadata": {},
   "outputs": [],
   "source": [
    "#Problem 1: Bank Account Create a class representing a bank account with attributes like account number, account holder name, and balance. Implement methods to deposit and withdraw money from the account."
   ]
  },
  {
   "cell_type": "code",
   "execution_count": 14,
   "id": "d10b9888-d6fd-4988-80d1-73c4e78b73f9",
   "metadata": {},
   "outputs": [],
   "source": [
    "class Bank_Account:\n",
    "    \n",
    "    def __init__(self,account_number,holder_name,balance):\n",
    "        \n",
    "        self.acnt_no=account_number\n",
    "        self.acnt_name=holder_name\n",
    "        self.acnt_bal=balance\n",
    "        \n",
    "    def deposit(self,amount):\n",
    "        if amount>0:\n",
    "                self.acnt_bal+=amount\n",
    "                print('New balance:',self.acnt_bal)\n",
    "                \n",
    "        else:\n",
    "                print('Invalid deposit amount')\n",
    "                \n",
    "                \n",
    "    def withdraw(self,amount):\n",
    "        if self.acnt_bal>=amount and amount>0:\n",
    "                self.acnt_bal -=amount\n",
    "                print('New balance:',self.acnt_bal)\n",
    "                \n",
    "        else:\n",
    "                print('Insufficient funds')\n",
    "                               "
   ]
  },
  {
   "cell_type": "code",
   "execution_count": 16,
   "id": "153cacc5-a971-4f23-b5f9-9dea88376018",
   "metadata": {},
   "outputs": [],
   "source": [
    "account1=Bank_Account(1287654,'Jack Reacher',10000)"
   ]
  },
  {
   "cell_type": "code",
   "execution_count": 10,
   "id": "86a555ae-cdb1-4b6a-9fd1-0734daa104d6",
   "metadata": {},
   "outputs": [
    {
     "data": {
      "text/plain": [
       "1287654"
      ]
     },
     "execution_count": 10,
     "metadata": {},
     "output_type": "execute_result"
    }
   ],
   "source": [
    "account1.acnt_no"
   ]
  },
  {
   "cell_type": "code",
   "execution_count": 11,
   "id": "ac348675-adb8-4b87-bab2-d5c77de5d5f6",
   "metadata": {},
   "outputs": [
    {
     "data": {
      "text/plain": [
       "'Jack Reacher'"
      ]
     },
     "execution_count": 11,
     "metadata": {},
     "output_type": "execute_result"
    }
   ],
   "source": [
    "account1.acnt_name"
   ]
  },
  {
   "cell_type": "code",
   "execution_count": 12,
   "id": "6233c0c6-ad21-4d84-b3bc-eb07e6da0e51",
   "metadata": {},
   "outputs": [
    {
     "data": {
      "text/plain": [
       "10000"
      ]
     },
     "execution_count": 12,
     "metadata": {},
     "output_type": "execute_result"
    }
   ],
   "source": [
    "account1.acnt_bal"
   ]
  },
  {
   "cell_type": "code",
   "execution_count": 17,
   "id": "bf65c1dc-09cc-4cd1-aac7-2748f748c548",
   "metadata": {},
   "outputs": [
    {
     "name": "stdout",
     "output_type": "stream",
     "text": [
      "New balance: 10500\n"
     ]
    }
   ],
   "source": [
    "account1.deposit(500)"
   ]
  },
  {
   "cell_type": "code",
   "execution_count": 18,
   "id": "b6f81b7d-8f44-479e-9446-95888c0f6d4c",
   "metadata": {},
   "outputs": [
    {
     "name": "stdout",
     "output_type": "stream",
     "text": [
      "New balance: 9500\n"
     ]
    }
   ],
   "source": [
    "account1.withdraw(1000)"
   ]
  },
  {
   "cell_type": "code",
   "execution_count": null,
   "id": "d2bb0bb7-c292-4d79-82b7-e187e3f75048",
   "metadata": {},
   "outputs": [],
   "source": []
  },
  {
   "cell_type": "code",
   "execution_count": 19,
   "id": "58855bbb-55a4-4d83-a1f5-9184437c0698",
   "metadata": {},
   "outputs": [],
   "source": [
    "#Problem 2: Employee Management Create a class representing an employee with attributes like employee ID, name, and salary. Implement methods to calculate the yearly bonus and display employee details."
   ]
  },
  {
   "cell_type": "code",
   "execution_count": 54,
   "id": "67864dc0-10e3-403c-a7a7-154b0c063aeb",
   "metadata": {},
   "outputs": [],
   "source": [
    "class Employee_Management:\n",
    "    \n",
    "    def __init__(self,employee_id,name,salary):\n",
    "        self.id=employee_id\n",
    "        self.name=name\n",
    "        self.salary=salary\n",
    "        \n",
    "    def calculate_bonus(self,bonus):\n",
    "        bonus_percent=bonus\n",
    "        yearly_bonus=(bonus_percent)*(self.salary)\n",
    "        print('yearly bonus:',yearly_bonus)\n",
    "        self.salary+=yearly_bonus\n",
    "    \n",
    "    \n",
    "    def Employee_details(self):\n",
    "        print('Employee Id:',self.id)\n",
    "        print('Employee Name:',self.name)\n",
    "        print('Employee Salary after bonus:',self.salary)\n",
    "       \n",
    "    "
   ]
  },
  {
   "cell_type": "code",
   "execution_count": 62,
   "id": "0752e80b-3941-45bc-bde7-56fe18c62b19",
   "metadata": {},
   "outputs": [],
   "source": [
    "new_employee=Employee_Management('acb143','Sandesh Jhingan',50000)"
   ]
  },
  {
   "cell_type": "code",
   "execution_count": 56,
   "id": "162d263e-e571-4459-87c2-30e8f8368ff5",
   "metadata": {},
   "outputs": [
    {
     "data": {
      "text/plain": [
       "'acb143'"
      ]
     },
     "execution_count": 56,
     "metadata": {},
     "output_type": "execute_result"
    }
   ],
   "source": [
    "new_employee.id"
   ]
  },
  {
   "cell_type": "code",
   "execution_count": 57,
   "id": "9707aad1-c220-4c1e-8f23-8b1159fc82f3",
   "metadata": {},
   "outputs": [
    {
     "data": {
      "text/plain": [
       "'Sandesh Jhingan'"
      ]
     },
     "execution_count": 57,
     "metadata": {},
     "output_type": "execute_result"
    }
   ],
   "source": [
    "new_employee.name"
   ]
  },
  {
   "cell_type": "code",
   "execution_count": 58,
   "id": "e73694a9-0d68-493b-b1dc-a952130db105",
   "metadata": {},
   "outputs": [
    {
     "data": {
      "text/plain": [
       "50000"
      ]
     },
     "execution_count": 58,
     "metadata": {},
     "output_type": "execute_result"
    }
   ],
   "source": [
    "new_employee.salary"
   ]
  },
  {
   "cell_type": "code",
   "execution_count": 63,
   "id": "c7b78415-2e34-48a6-b8d0-6903b5049d32",
   "metadata": {},
   "outputs": [
    {
     "name": "stdout",
     "output_type": "stream",
     "text": [
      "yearly bonus: 10000.0\n"
     ]
    }
   ],
   "source": [
    "new_employee.calculate_bonus(0.20)"
   ]
  },
  {
   "cell_type": "code",
   "execution_count": 64,
   "id": "8beeeb48-7063-4bcf-8d0f-888d95b3ebf1",
   "metadata": {},
   "outputs": [
    {
     "name": "stdout",
     "output_type": "stream",
     "text": [
      "Employee Id: acb143\n",
      "Employee Name: Sandesh Jhingan\n",
      "Employee Salary after bonus: 60000.0\n"
     ]
    }
   ],
   "source": [
    "new_employee.Employee_details()"
   ]
  },
  {
   "cell_type": "code",
   "execution_count": null,
   "id": "ceb560ca-e69c-435c-970e-b38cc28ee309",
   "metadata": {},
   "outputs": [],
   "source": []
  },
  {
   "cell_type": "code",
   "execution_count": 69,
   "id": "6ef8c929-0288-45ed-9654-8d167c13e08a",
   "metadata": {},
   "outputs": [],
   "source": [
    "#Problem 3: Vehicle Rental Create a class representing a vehicle rental system. Implement methods to rent a vehicle, return a vehicle, and display available vehicles."
   ]
  },
  {
   "cell_type": "code",
   "execution_count": 70,
   "id": "995fd0ae-d7f2-4ccb-9e82-ac3f627fd2c4",
   "metadata": {},
   "outputs": [],
   "source": [
    "class Vehicle_Rental_System:\n",
    "    def __init__(self,cars):\n",
    "        self.car=cars\n",
    "        \n",
    "        \n",
    "    def vehicle_available(self):\n",
    "        print(\"Available Cars:\",self.car)\n",
    "        \n",
    "        \n",
    "    def rent_Vehicle(self,num):\n",
    "        if num<=self.car and num>0:\n",
    "            print(\"Car is available for rent\")\n",
    "            \n",
    "            self.car=self.car-num\n",
    "            print('available cars after rent:',self.car)\n",
    "            \n",
    "            \n",
    "        else:\n",
    "            print(\"Car is out of stock\")\n",
    "            \n",
    "            \n",
    "            \n",
    "    def return_Vehicle(self,num):\n",
    "        print(\"cars returned:\",num)\n",
    "        \n",
    "        self.car=self.car+num\n",
    "        print(\"available cars after return:\",self.car)\n",
    "            \n",
    "            \n",
    "     \n",
    "        "
   ]
  },
  {
   "cell_type": "code",
   "execution_count": 72,
   "id": "9d7474ce-6029-4def-b6d3-8e7fcd67014d",
   "metadata": {},
   "outputs": [],
   "source": [
    "car=Vehicle_Rental_System(100)"
   ]
  },
  {
   "cell_type": "code",
   "execution_count": 75,
   "id": "2ab76482-f9b7-40a3-8802-eb6c9a8ab3a7",
   "metadata": {},
   "outputs": [
    {
     "name": "stdout",
     "output_type": "stream",
     "text": [
      "Available Cars: 100\n"
     ]
    }
   ],
   "source": [
    "car.vehicle_available()"
   ]
  },
  {
   "cell_type": "code",
   "execution_count": 76,
   "id": "997d809c-e4a0-40c1-b846-6c9447e856c3",
   "metadata": {},
   "outputs": [
    {
     "name": "stdout",
     "output_type": "stream",
     "text": [
      "Car is available for rent\n",
      "available cars after rent: 92\n"
     ]
    }
   ],
   "source": [
    "car.rent_Vehicle(8)"
   ]
  },
  {
   "cell_type": "code",
   "execution_count": 77,
   "id": "1ef6b07c-4a8b-4df9-bfa8-1fefa365bac4",
   "metadata": {},
   "outputs": [
    {
     "name": "stdout",
     "output_type": "stream",
     "text": [
      "cars returned: 2\n",
      "available cars after return: 94\n"
     ]
    }
   ],
   "source": [
    "car.return_Vehicle(2)"
   ]
  },
  {
   "cell_type": "code",
   "execution_count": null,
   "id": "a53bdab6-0576-4afa-bc79-df991c159190",
   "metadata": {},
   "outputs": [],
   "source": []
  },
  {
   "cell_type": "code",
   "execution_count": 84,
   "id": "c5bd17c3-2b2b-4407-9b5e-0164fb6ffd62",
   "metadata": {},
   "outputs": [],
   "source": [
    "#Problem 4: Library| CatLog Create classes representing a library and a book. Implement methods to add books to the library, borrow books, and display available books."
   ]
  },
  {
   "cell_type": "code",
   "execution_count": 85,
   "id": "6feaa0f7-d547-47e9-bce4-971a7cd02109",
   "metadata": {},
   "outputs": [],
   "source": [
    "class Library:\n",
    "    def __init__(self,books):\n",
    "        self.book=books\n",
    "    \n",
    "    \n",
    "    \n",
    "class Books(Library):\n",
    "    \n",
    "    def availability(self):\n",
    "        print('available books:',self.book)\n",
    "        \n",
    "    def add_book(self,book):\n",
    "        print('books added:',book)\n",
    "        self.book+=book\n",
    "        print(\"books available after adding:\",self.book)\n",
    "        \n",
    "    def borrow_book(self,book):\n",
    "        if book<=self.book and book>0:\n",
    "            print('book are available and can be borrowed')\n",
    "            print('borrowed books:',book)\n",
    "            self.book=self.book-book\n",
    "            print('available books after borrow:',self.book)\n",
    "            \n",
    "        else:\n",
    "            print('books are not available and out of stock for now')\n",
    "        \n",
    "        \n",
    "            "
   ]
  },
  {
   "cell_type": "code",
   "execution_count": 95,
   "id": "6eb3256c-5001-40c8-b17f-3ab076bc2c12",
   "metadata": {},
   "outputs": [],
   "source": [
    "book1=Books(50)"
   ]
  },
  {
   "cell_type": "code",
   "execution_count": 96,
   "id": "bbb7cfb2-144d-4090-9645-ba7fab462904",
   "metadata": {},
   "outputs": [
    {
     "name": "stdout",
     "output_type": "stream",
     "text": [
      "available books: 50\n"
     ]
    }
   ],
   "source": [
    "book1.availability()"
   ]
  },
  {
   "cell_type": "code",
   "execution_count": 97,
   "id": "a1d0646d-0193-4305-8204-2c5a65c64415",
   "metadata": {},
   "outputs": [
    {
     "name": "stdout",
     "output_type": "stream",
     "text": [
      "book are available and can be borrowed\n",
      "borrowed books: 12\n",
      "available books after borrow: 38\n"
     ]
    }
   ],
   "source": [
    "book1.borrow_book(12)"
   ]
  },
  {
   "cell_type": "code",
   "execution_count": 98,
   "id": "02920713-8683-4d5a-8e4a-780b0b1205f6",
   "metadata": {},
   "outputs": [
    {
     "name": "stdout",
     "output_type": "stream",
     "text": [
      "books added: 2\n",
      "books available after adding: 40\n"
     ]
    }
   ],
   "source": [
    "book1.add_book(2)"
   ]
  },
  {
   "cell_type": "code",
   "execution_count": null,
   "id": "71d2eccc-d5f9-4365-8201-587e5ac1895d",
   "metadata": {},
   "outputs": [],
   "source": []
  },
  {
   "cell_type": "code",
   "execution_count": null,
   "id": "5ea893f6-23fb-4014-a93d-550799017964",
   "metadata": {},
   "outputs": [],
   "source": []
  },
  {
   "cell_type": "code",
   "execution_count": null,
   "id": "aeeaa679-d94e-4c70-9d7f-52ba8e74d590",
   "metadata": {},
   "outputs": [],
   "source": []
  },
  {
   "cell_type": "code",
   "execution_count": null,
   "id": "f3996103-7452-4a04-94e0-65965bd17c0c",
   "metadata": {},
   "outputs": [],
   "source": []
  },
  {
   "cell_type": "code",
   "execution_count": null,
   "id": "ca2a3bd4-6a85-412c-9469-3689f6e1675f",
   "metadata": {},
   "outputs": [],
   "source": []
  }
 ],
 "metadata": {
  "kernelspec": {
   "display_name": "Python 3 (ipykernel)",
   "language": "python",
   "name": "python3"
  },
  "language_info": {
   "codemirror_mode": {
    "name": "ipython",
    "version": 3
   },
   "file_extension": ".py",
   "mimetype": "text/x-python",
   "name": "python",
   "nbconvert_exporter": "python",
   "pygments_lexer": "ipython3",
   "version": "3.10.8"
  }
 },
 "nbformat": 4,
 "nbformat_minor": 5
}
